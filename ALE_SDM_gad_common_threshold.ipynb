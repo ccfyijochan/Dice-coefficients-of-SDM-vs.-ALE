{
 "cells": [
  {
   "cell_type": "code",
   "execution_count": 1,
   "id": "inappropriate-reasoning",
   "metadata": {},
   "outputs": [
    {
     "name": "stderr",
     "output_type": "stream",
     "text": [
      "C:\\Users\\zhang\\.conda\\envs\\tensorflow\\lib\\site-packages\\nilearn\\datasets\\__init__.py:90: FutureWarning: Fetchers from the nilearn.datasets module will be updated in version 0.9 to return python strings instead of bytes and Pandas dataframes instead of Numpy arrays.\n",
      "  \"Numpy arrays.\", FutureWarning)\n"
     ]
    }
   ],
   "source": [
    "import os\n",
    "from subprocess import check_call\n",
    "import zipfile\n",
    "from nilearn import plotting\n",
    "import shutil\n",
    "import pandas as pd"
   ]
  },
  {
   "cell_type": "code",
   "execution_count": 2,
   "id": "hollywood-accessory",
   "metadata": {},
   "outputs": [],
   "source": [
    "study = 'gad_common_threshold'"
   ]
  },
  {
   "cell_type": "code",
   "execution_count": 3,
   "id": "simple-introduction",
   "metadata": {},
   "outputs": [],
   "source": [
    "#ALE_Thresholded statistics\n",
    "ALE_file = './input/' + study + '/ALE.nii'\n",
    "ALE_file_neg = './input/' + study + '/ALE_neg.nii'\n",
    "AES_file = './input/' + study + '/AES.nii.gz'\n",
    "AES_file_neg = './input/' + study + '/AES_neg.nii.gz'\n",
    "#uncor_Unthresholded statistics\n",
    "AES_stat_file = './input/' + study + '/AES_stat.nii.gz'\n",
    "ALE_stat_file = './input/' + study + '/ALE_stat.nii'\n",
    "ALE_stat_file_neg = './input/' + study + '/ALE_stat_neg.nii'\n",
    "# uncor_Analysis mask\n",
    "AES_mask_file = './input/' + study + '/AES_mask.nii.gz'\n",
    "ALE_mask_file = './input/' + study + '/ALE_mask.nii.gz'"
   ]
  },
  {
   "cell_type": "code",
   "execution_count": 4,
   "id": "chief-assault",
   "metadata": {},
   "outputs": [
    {
     "ename": "NameError",
     "evalue": "name 'dice' is not defined",
     "output_type": "error",
     "traceback": [
      "\u001b[1;31m---------------------------------------------------------------------------\u001b[0m",
      "\u001b[1;31mNameError\u001b[0m                                 Traceback (most recent call last)",
      "\u001b[1;32m<ipython-input-4-70791b4a7900>\u001b[0m in \u001b[0;36m<module>\u001b[1;34m\u001b[0m\n\u001b[0;32m      1\u001b[0m \u001b[1;32mimport\u001b[0m \u001b[0mdice_gad_common\u001b[0m\u001b[1;33m\u001b[0m\u001b[1;33m\u001b[0m\u001b[0m\n\u001b[1;32m----> 2\u001b[1;33m dice.dice(ALE_file, AES_file,\n\u001b[0m\u001b[0;32m      3\u001b[0m          \u001b[0mALE_file_neg\u001b[0m\u001b[1;33m,\u001b[0m \u001b[0mAES_file_neg\u001b[0m\u001b[1;33m,\u001b[0m\u001b[1;33m\u001b[0m\u001b[1;33m\u001b[0m\u001b[0m\n\u001b[0;32m      4\u001b[0m          \u001b[0mALE_stat_file\u001b[0m\u001b[1;33m=\u001b[0m\u001b[0mALE_stat_file\u001b[0m\u001b[1;33m,\u001b[0m \u001b[0mAES_stat_file\u001b[0m\u001b[1;33m=\u001b[0m\u001b[0mAES_stat_file\u001b[0m\u001b[1;33m,\u001b[0m \u001b[0mALE_stat_file_neg\u001b[0m\u001b[1;33m=\u001b[0m\u001b[0mALE_stat_file_neg\u001b[0m\u001b[1;33m,\u001b[0m\u001b[1;33m\u001b[0m\u001b[1;33m\u001b[0m\u001b[0m\n\u001b[0;32m      5\u001b[0m          \u001b[0mstudy\u001b[0m\u001b[1;33m=\u001b[0m\u001b[0mstudy\u001b[0m\u001b[1;33m,\u001b[0m\u001b[1;33m\u001b[0m\u001b[1;33m\u001b[0m\u001b[0m\n",
      "\u001b[1;31mNameError\u001b[0m: name 'dice' is not defined"
     ]
    }
   ],
   "source": [
    "import dice_gad_common\n",
    "dice_gad_common.dice(ALE_file, AES_file,\n",
    "         ALE_file_neg, AES_file_neg, \n",
    "         ALE_stat_file=ALE_stat_file, AES_stat_file=AES_stat_file, ALE_stat_file_neg=ALE_stat_file_neg,\n",
    "         study=study,\n",
    "         )"
   ]
  },
  {
   "cell_type": "code",
   "execution_count": null,
   "id": "simple-therapist",
   "metadata": {},
   "outputs": [],
   "source": []
  },
  {
   "cell_type": "code",
   "execution_count": null,
   "id": "prescription-gnome",
   "metadata": {},
   "outputs": [],
   "source": []
  }
 ],
 "metadata": {
  "kernelspec": {
   "display_name": "Python 3",
   "language": "python",
   "name": "python3"
  },
  "language_info": {
   "codemirror_mode": {
    "name": "ipython",
    "version": 3
   },
   "file_extension": ".py",
   "mimetype": "text/x-python",
   "name": "python",
   "nbconvert_exporter": "python",
   "pygments_lexer": "ipython3",
   "version": "3.7.10"
  }
 },
 "nbformat": 4,
 "nbformat_minor": 5
}
